{
  "nbformat": 4,
  "nbformat_minor": 0,
  "metadata": {
    "colab": {
      "provenance": [],
      "authorship_tag": "ABX9TyNJoxR7bcTpsNjamhBiW2PJ",
      "include_colab_link": true
    },
    "kernelspec": {
      "name": "python3",
      "display_name": "Python 3"
    },
    "language_info": {
      "name": "python"
    }
  },
  "cells": [
    {
      "cell_type": "markdown",
      "metadata": {
        "id": "view-in-github",
        "colab_type": "text"
      },
      "source": [
        "<a href=\"https://colab.research.google.com/github/nedokormysh/Data_Fusion_Contest_2022/blob/main/ML_in_business_course_work_step_1_train.ipynb\" target=\"_parent\"><img src=\"https://colab.research.google.com/assets/colab-badge.svg\" alt=\"Open In Colab\"/></a>"
      ]
    },
    {
      "cell_type": "markdown",
      "source": [
        "# Домашнее задание\n",
        "\n",
        "**Стандартная версия**\n",
        "Нужно реализовать rest api на базе flask в google colab.\n",
        "\n",
        "1. выбрать себе датасет (который интересен или нравится больше всего, можно глянуть здесь https://economic-caper-a4c.notion.site/d062c410b90145bca90fc23b1348c813), сделать pipeline (преобразования + модель), сохранить его на диск. Если не хочется пайплайн, то можно без него, но так вам же будет удобнее потом вызывать его из кода сервиса.\n",
        "2. Реализовать ноутбук с сервером\n",
        "3. Реализовать ноутбук с клиентом\n",
        "\n",
        "\n",
        "**Сложная версия**\n",
        "\n",
        "Нужно реализовать rest api на базе flask (пример https://github.com/fimochka-sudo/GB_docker_flask_example)\n",
        "\n",
        "1. выбрать себе датасет (который интересен или нравится больше всего, можно глянуть здесь https://economic-caper-a4c.notion.site/d062c410b90145bca90fc23b1348c813), сделать pipeline (преобразования + модель), сохранить его на диск. Если не хочется пайплайн, то можно без него, но так вам же будет удобнее потом вызывать его из кода сервиса.\n",
        "2. для вашего проекта вам понадобится requirements.txt с пакетами. Можно за основу взять такой файл из проекта выше. Для его установки прям в pycharm можно открыть терминал и сделать pip install -r requirements.txt (находясь в корне проекта)\n",
        "3. итоговый проект должен содержать:\n",
        "    1. каталог app/models/ (здесь модель-пайплайн предобученная либо код обучения модели-пайплайна)\n",
        "    2. файл app/run_server.py (здесь основной код flask-приложения)\n",
        "    3. requirements.txt (список пакетов, которые у вас используются в проекте - в корне проекта)\n",
        "    4. README.md (здесь какое-то описание, что вы делаете, что за данные, как запускать и т.д)\n",
        "    5. *Dockerfile\n",
        "    6. *docker-entrypoint.sh\n",
        "4. *front-end сервис какой-то, который умеет принимать от пользователя введеные данные и ходить в ваш api. На самом деле полезно больше вам, т.к если ваш проект будет далее развиваться (новые модели, интересные подходы), то это хороший пунктик к резюме и в принципе - строчка в портфолио)"
      ],
      "metadata": {
        "id": "Hv-efBC71fiS"
      }
    },
    {
      "cell_type": "markdown",
      "source": [
        "Возьмём датасет https://www.kaggle.com/datasets/arashnic/hr-analytics-job-change-of-data-scientists"
      ],
      "metadata": {
        "id": "cwFW83Ab1hbs"
      }
    },
    {
      "cell_type": "code",
      "source": [
        "import numpy as np\n",
        "import pandas as pd\n",
        "import matplotlib.pyplot as plt\n",
        "import pylab\n",
        "import seaborn as sns\n",
        "\n",
        "from sklearn.base import BaseEstimator, TransformerMixin\n",
        "from sklearn.pipeline import Pipeline, FeatureUnion\n",
        "from sklearn.model_selection import cross_val_score, train_test_split\n",
        "from sklearn.preprocessing import StandardScaler\n",
        "\n",
        "!pip install catboost -q\n",
        "\n",
        "from catboost import CatBoostClassifier\n",
        "import xgboost as xgb"
      ],
      "metadata": {
        "id": "umPbg_T2UIDe",
        "colab": {
          "base_uri": "https://localhost:8080/"
        },
        "outputId": "ec58f318-e503-4186-aee3-30e4dba750fb"
      },
      "execution_count": 1,
      "outputs": [
        {
          "output_type": "stream",
          "name": "stdout",
          "text": [
            "\u001b[2K     \u001b[90m━━━━━━━━━━━━━━━━━━━━━━━━━━━━━━━━━━━━━━━━\u001b[0m \u001b[32m76.6/76.6 MB\u001b[0m \u001b[31m9.8 MB/s\u001b[0m eta \u001b[36m0:00:00\u001b[0m\n",
            "\u001b[?25h"
          ]
        }
      ]
    },
    {
      "cell_type": "code",
      "source": [
        "df = pd.read_csv('https://raw.githubusercontent.com/nedokormysh/GB_ML_business/course_project/aug_train.csv', index_col='enrollee_id')\n",
        "df.sort_index().head()"
      ],
      "metadata": {
        "colab": {
          "base_uri": "https://localhost:8080/",
          "height": 336
        },
        "id": "LKWyDBGaaqa7",
        "outputId": "4de6260e-cbf6-4c18-a554-711265240f4a"
      },
      "execution_count": 2,
      "outputs": [
        {
          "output_type": "execute_result",
          "data": {
            "text/plain": [
              "                 city  city_development_index gender      relevent_experience  \\\n",
              "enrollee_id                                                                     \n",
              "1            city_103                   0.920   Male   No relevent experience   \n",
              "2            city_103                   0.920   Male   No relevent experience   \n",
              "4            city_103                   0.920   Male   No relevent experience   \n",
              "5             city_67                   0.855   Male  Has relevent experience   \n",
              "7            city_136                   0.897   Male  Has relevent experience   \n",
              "\n",
              "            enrolled_university education_level major_discipline experience  \\\n",
              "enrollee_id                                                                   \n",
              "1                 no_enrollment     High School              NaN          2   \n",
              "2                 no_enrollment             Phd             STEM         15   \n",
              "4                 no_enrollment         Masters             STEM          9   \n",
              "5                 no_enrollment         Masters             STEM         10   \n",
              "7              Full time course         Masters             STEM         13   \n",
              "\n",
              "            company_size         company_type last_new_job  training_hours  \\\n",
              "enrollee_id                                                                  \n",
              "1                    NaN              Pvt Ltd        never             150   \n",
              "2                 10000+                  NGO            3             128   \n",
              "4                  50-99        Public Sector           >4              13   \n",
              "5                    <10  Early Stage Startup            1              12   \n",
              "7                    NaN                  NaN            1              18   \n",
              "\n",
              "             target  \n",
              "enrollee_id          \n",
              "1               0.0  \n",
              "2               1.0  \n",
              "4               0.0  \n",
              "5               0.0  \n",
              "7               0.0  "
            ],
            "text/html": [
              "\n",
              "  <div id=\"df-b81de4a5-f5e8-4469-8225-ef8a01ed5c9d\">\n",
              "    <div class=\"colab-df-container\">\n",
              "      <div>\n",
              "<style scoped>\n",
              "    .dataframe tbody tr th:only-of-type {\n",
              "        vertical-align: middle;\n",
              "    }\n",
              "\n",
              "    .dataframe tbody tr th {\n",
              "        vertical-align: top;\n",
              "    }\n",
              "\n",
              "    .dataframe thead th {\n",
              "        text-align: right;\n",
              "    }\n",
              "</style>\n",
              "<table border=\"1\" class=\"dataframe\">\n",
              "  <thead>\n",
              "    <tr style=\"text-align: right;\">\n",
              "      <th></th>\n",
              "      <th>city</th>\n",
              "      <th>city_development_index</th>\n",
              "      <th>gender</th>\n",
              "      <th>relevent_experience</th>\n",
              "      <th>enrolled_university</th>\n",
              "      <th>education_level</th>\n",
              "      <th>major_discipline</th>\n",
              "      <th>experience</th>\n",
              "      <th>company_size</th>\n",
              "      <th>company_type</th>\n",
              "      <th>last_new_job</th>\n",
              "      <th>training_hours</th>\n",
              "      <th>target</th>\n",
              "    </tr>\n",
              "    <tr>\n",
              "      <th>enrollee_id</th>\n",
              "      <th></th>\n",
              "      <th></th>\n",
              "      <th></th>\n",
              "      <th></th>\n",
              "      <th></th>\n",
              "      <th></th>\n",
              "      <th></th>\n",
              "      <th></th>\n",
              "      <th></th>\n",
              "      <th></th>\n",
              "      <th></th>\n",
              "      <th></th>\n",
              "      <th></th>\n",
              "    </tr>\n",
              "  </thead>\n",
              "  <tbody>\n",
              "    <tr>\n",
              "      <th>1</th>\n",
              "      <td>city_103</td>\n",
              "      <td>0.920</td>\n",
              "      <td>Male</td>\n",
              "      <td>No relevent experience</td>\n",
              "      <td>no_enrollment</td>\n",
              "      <td>High School</td>\n",
              "      <td>NaN</td>\n",
              "      <td>2</td>\n",
              "      <td>NaN</td>\n",
              "      <td>Pvt Ltd</td>\n",
              "      <td>never</td>\n",
              "      <td>150</td>\n",
              "      <td>0.0</td>\n",
              "    </tr>\n",
              "    <tr>\n",
              "      <th>2</th>\n",
              "      <td>city_103</td>\n",
              "      <td>0.920</td>\n",
              "      <td>Male</td>\n",
              "      <td>No relevent experience</td>\n",
              "      <td>no_enrollment</td>\n",
              "      <td>Phd</td>\n",
              "      <td>STEM</td>\n",
              "      <td>15</td>\n",
              "      <td>10000+</td>\n",
              "      <td>NGO</td>\n",
              "      <td>3</td>\n",
              "      <td>128</td>\n",
              "      <td>1.0</td>\n",
              "    </tr>\n",
              "    <tr>\n",
              "      <th>4</th>\n",
              "      <td>city_103</td>\n",
              "      <td>0.920</td>\n",
              "      <td>Male</td>\n",
              "      <td>No relevent experience</td>\n",
              "      <td>no_enrollment</td>\n",
              "      <td>Masters</td>\n",
              "      <td>STEM</td>\n",
              "      <td>9</td>\n",
              "      <td>50-99</td>\n",
              "      <td>Public Sector</td>\n",
              "      <td>&gt;4</td>\n",
              "      <td>13</td>\n",
              "      <td>0.0</td>\n",
              "    </tr>\n",
              "    <tr>\n",
              "      <th>5</th>\n",
              "      <td>city_67</td>\n",
              "      <td>0.855</td>\n",
              "      <td>Male</td>\n",
              "      <td>Has relevent experience</td>\n",
              "      <td>no_enrollment</td>\n",
              "      <td>Masters</td>\n",
              "      <td>STEM</td>\n",
              "      <td>10</td>\n",
              "      <td>&lt;10</td>\n",
              "      <td>Early Stage Startup</td>\n",
              "      <td>1</td>\n",
              "      <td>12</td>\n",
              "      <td>0.0</td>\n",
              "    </tr>\n",
              "    <tr>\n",
              "      <th>7</th>\n",
              "      <td>city_136</td>\n",
              "      <td>0.897</td>\n",
              "      <td>Male</td>\n",
              "      <td>Has relevent experience</td>\n",
              "      <td>Full time course</td>\n",
              "      <td>Masters</td>\n",
              "      <td>STEM</td>\n",
              "      <td>13</td>\n",
              "      <td>NaN</td>\n",
              "      <td>NaN</td>\n",
              "      <td>1</td>\n",
              "      <td>18</td>\n",
              "      <td>0.0</td>\n",
              "    </tr>\n",
              "  </tbody>\n",
              "</table>\n",
              "</div>\n",
              "      <button class=\"colab-df-convert\" onclick=\"convertToInteractive('df-b81de4a5-f5e8-4469-8225-ef8a01ed5c9d')\"\n",
              "              title=\"Convert this dataframe to an interactive table.\"\n",
              "              style=\"display:none;\">\n",
              "        \n",
              "  <svg xmlns=\"http://www.w3.org/2000/svg\" height=\"24px\"viewBox=\"0 0 24 24\"\n",
              "       width=\"24px\">\n",
              "    <path d=\"M0 0h24v24H0V0z\" fill=\"none\"/>\n",
              "    <path d=\"M18.56 5.44l.94 2.06.94-2.06 2.06-.94-2.06-.94-.94-2.06-.94 2.06-2.06.94zm-11 1L8.5 8.5l.94-2.06 2.06-.94-2.06-.94L8.5 2.5l-.94 2.06-2.06.94zm10 10l.94 2.06.94-2.06 2.06-.94-2.06-.94-.94-2.06-.94 2.06-2.06.94z\"/><path d=\"M17.41 7.96l-1.37-1.37c-.4-.4-.92-.59-1.43-.59-.52 0-1.04.2-1.43.59L10.3 9.45l-7.72 7.72c-.78.78-.78 2.05 0 2.83L4 21.41c.39.39.9.59 1.41.59.51 0 1.02-.2 1.41-.59l7.78-7.78 2.81-2.81c.8-.78.8-2.07 0-2.86zM5.41 20L4 18.59l7.72-7.72 1.47 1.35L5.41 20z\"/>\n",
              "  </svg>\n",
              "      </button>\n",
              "      \n",
              "  <style>\n",
              "    .colab-df-container {\n",
              "      display:flex;\n",
              "      flex-wrap:wrap;\n",
              "      gap: 12px;\n",
              "    }\n",
              "\n",
              "    .colab-df-convert {\n",
              "      background-color: #E8F0FE;\n",
              "      border: none;\n",
              "      border-radius: 50%;\n",
              "      cursor: pointer;\n",
              "      display: none;\n",
              "      fill: #1967D2;\n",
              "      height: 32px;\n",
              "      padding: 0 0 0 0;\n",
              "      width: 32px;\n",
              "    }\n",
              "\n",
              "    .colab-df-convert:hover {\n",
              "      background-color: #E2EBFA;\n",
              "      box-shadow: 0px 1px 2px rgba(60, 64, 67, 0.3), 0px 1px 3px 1px rgba(60, 64, 67, 0.15);\n",
              "      fill: #174EA6;\n",
              "    }\n",
              "\n",
              "    [theme=dark] .colab-df-convert {\n",
              "      background-color: #3B4455;\n",
              "      fill: #D2E3FC;\n",
              "    }\n",
              "\n",
              "    [theme=dark] .colab-df-convert:hover {\n",
              "      background-color: #434B5C;\n",
              "      box-shadow: 0px 1px 3px 1px rgba(0, 0, 0, 0.15);\n",
              "      filter: drop-shadow(0px 1px 2px rgba(0, 0, 0, 0.3));\n",
              "      fill: #FFFFFF;\n",
              "    }\n",
              "  </style>\n",
              "\n",
              "      <script>\n",
              "        const buttonEl =\n",
              "          document.querySelector('#df-b81de4a5-f5e8-4469-8225-ef8a01ed5c9d button.colab-df-convert');\n",
              "        buttonEl.style.display =\n",
              "          google.colab.kernel.accessAllowed ? 'block' : 'none';\n",
              "\n",
              "        async function convertToInteractive(key) {\n",
              "          const element = document.querySelector('#df-b81de4a5-f5e8-4469-8225-ef8a01ed5c9d');\n",
              "          const dataTable =\n",
              "            await google.colab.kernel.invokeFunction('convertToInteractive',\n",
              "                                                     [key], {});\n",
              "          if (!dataTable) return;\n",
              "\n",
              "          const docLinkHtml = 'Like what you see? Visit the ' +\n",
              "            '<a target=\"_blank\" href=https://colab.research.google.com/notebooks/data_table.ipynb>data table notebook</a>'\n",
              "            + ' to learn more about interactive tables.';\n",
              "          element.innerHTML = '';\n",
              "          dataTable['output_type'] = 'display_data';\n",
              "          await google.colab.output.renderOutput(dataTable, element);\n",
              "          const docLink = document.createElement('div');\n",
              "          docLink.innerHTML = docLinkHtml;\n",
              "          element.appendChild(docLink);\n",
              "        }\n",
              "      </script>\n",
              "    </div>\n",
              "  </div>\n",
              "  "
            ]
          },
          "metadata": {},
          "execution_count": 2
        }
      ]
    },
    {
      "cell_type": "code",
      "source": [
        "df.shape"
      ],
      "metadata": {
        "colab": {
          "base_uri": "https://localhost:8080/"
        },
        "id": "8VIENe0Jvf9I",
        "outputId": "25d6d323-5ddc-4b1a-8b0c-bfd183e973b0"
      },
      "execution_count": 3,
      "outputs": [
        {
          "output_type": "execute_result",
          "data": {
            "text/plain": [
              "(19158, 13)"
            ]
          },
          "metadata": {},
          "execution_count": 3
        }
      ]
    },
    {
      "cell_type": "code",
      "source": [
        "X = df.iloc[:,:-1]\n",
        "y = df['target']"
      ],
      "metadata": {
        "id": "dliKuNsoii1M"
      },
      "execution_count": 4,
      "outputs": []
    },
    {
      "cell_type": "code",
      "source": [
        "y.value_counts()"
      ],
      "metadata": {
        "colab": {
          "base_uri": "https://localhost:8080/"
        },
        "id": "jw6ILObBb9Ji",
        "outputId": "9621eb27-9399-4bbb-ec6c-8cc794c82a24"
      },
      "execution_count": 5,
      "outputs": [
        {
          "output_type": "execute_result",
          "data": {
            "text/plain": [
              "0.0    14381\n",
              "1.0     4777\n",
              "Name: target, dtype: int64"
            ]
          },
          "metadata": {},
          "execution_count": 5
        }
      ]
    },
    {
      "cell_type": "code",
      "source": [
        "def save(df, PATH):\n",
        "    df.to_csv(PATH, index=False, encoding='utf-8', sep=';')"
      ],
      "metadata": {
        "id": "VmmnVt886RWW"
      },
      "execution_count": 19,
      "outputs": []
    },
    {
      "cell_type": "code",
      "source": [
        "from sklearn.model_selection import train_test_split\n",
        "\n",
        "X_train, X_val, y_train, y_val = train_test_split(X, \n",
        "                                                    y, test_size=0.33, random_state=7575)\n",
        "\n",
        "#save test\n",
        "X_val.to_csv(\"X_test.csv\", index=None)\n",
        "y_val.to_csv(\"y_test.csv\", index=None)\n",
        "#save train\n",
        "X_train.to_csv(\"X_train.csv\", index=None)\n",
        "y_train.to_csv(\"y_train.csv\", index=None)"
      ],
      "metadata": {
        "id": "DkJsYvFIp8mj"
      },
      "execution_count": 6,
      "outputs": []
    },
    {
      "cell_type": "code",
      "source": [
        "labels = y_train.value_counts().index\n",
        "sizes = y_train.value_counts().values\n",
        "\n",
        "fig, ax = plt.subplots()\n",
        "ax.pie(sizes, labels=labels, autopct='%1.1f%%')\n",
        "plt.title('target')"
      ],
      "metadata": {
        "colab": {
          "base_uri": "https://localhost:8080/",
          "height": 281
        },
        "id": "S41ZdMuO4c6a",
        "outputId": "d2b3a577-468d-4d2d-f44f-b8cd31564952"
      },
      "execution_count": 7,
      "outputs": [
        {
          "output_type": "execute_result",
          "data": {
            "text/plain": [
              "Text(0.5, 1.0, 'target')"
            ]
          },
          "metadata": {},
          "execution_count": 7
        },
        {
          "output_type": "display_data",
          "data": {
            "text/plain": [
              "<Figure size 432x288 with 1 Axes>"
            ],
            "image/png": "[encoded data removed]"
          },
          "metadata": {}
        }
      ]
    },
    {
      "cell_type": "code",
      "source": [
        "disbalance = y_train.value_counts()[0] / y_train.value_counts()[1]\n",
        "print(f'Количество наблюдений в обучающей выборке: {y_train.count()}',\n",
        "      f'Количество наблюдений в тестовой выборке: {y_val.count()}',\n",
        "      f'Дисбаланс целевой переменной: {disbalance:.2f}', sep='\\n')"
      ],
      "metadata": {
        "colab": {
          "base_uri": "https://localhost:8080/"
        },
        "id": "mVIIZy-2e5Mt",
        "outputId": "e83d5fa4-98cb-4645-bafa-71cbf76bdb54"
      },
      "execution_count": 8,
      "outputs": [
        {
          "output_type": "stream",
          "name": "stdout",
          "text": [
            "Количество наблюдений в обучающей выборке: 12835\n",
            "Количество наблюдений в тестовой выборке: 6323\n",
            "Дисбаланс целевой переменной: 2.99\n"
          ]
        }
      ]
    },
    {
      "cell_type": "markdown",
      "source": [
        "Рассмотрим чуть подробнее обучающую выборку."
      ],
      "metadata": {
        "id": "eBIELJfGjHBP"
      }
    },
    {
      "cell_type": "code",
      "source": [
        "X_train.info()"
      ],
      "metadata": {
        "colab": {
          "base_uri": "https://localhost:8080/"
        },
        "id": "kUcdwvaJcvK1",
        "outputId": "04c45054-5b91-44c0-ead4-a645e69de18d"
      },
      "execution_count": 9,
      "outputs": [
        {
          "output_type": "stream",
          "name": "stdout",
          "text": [
            "<class 'pandas.core.frame.DataFrame'>\n",
            "Int64Index: 12835 entries, 948 to 20699\n",
            "Data columns (total 12 columns):\n",
            " #   Column                  Non-Null Count  Dtype  \n",
            "---  ------                  --------------  -----  \n",
            " 0   city                    12835 non-null  object \n",
            " 1   city_development_index  12835 non-null  float64\n",
            " 2   gender                  9841 non-null   object \n",
            " 3   relevent_experience     12835 non-null  object \n",
            " 4   enrolled_university     12585 non-null  object \n",
            " 5   education_level         12521 non-null  object \n",
            " 6   major_discipline        10923 non-null  object \n",
            " 7   experience              12803 non-null  object \n",
            " 8   company_size            8857 non-null   object \n",
            " 9   company_type            8708 non-null   object \n",
            " 10  last_new_job            12554 non-null  object \n",
            " 11  training_hours          12835 non-null  int64  \n",
            "dtypes: float64(1), int64(1), object(10)\n",
            "memory usage: 1.3+ MB\n"
          ]
        }
      ]
    },
    {
      "cell_type": "markdown",
      "source": [
        "У нас есть пропущенные значения. Посмотрим какой процент пропусков от общего количества объектов."
      ],
      "metadata": {
        "id": "aOnoGI48BhA-"
      }
    },
    {
      "cell_type": "code",
      "source": [
        "def plot_missing_values(df):\n",
        "    \"\"\" For each column with missing values plot proportion that is missing.\"\"\"\n",
        "    data = [(col, df[col].isnull().sum() / len(df)) \n",
        "            for col in df.columns if df[col].isnull().sum() > 0]\n",
        "    col_names = ['column', 'percent_missing']\n",
        "    missing_df = pd.DataFrame(data, columns=col_names).sort_values('percent_missing')\n",
        "    pylab.rcParams['figure.figsize'] = (10, 6)\n",
        "    missing_df.plot(kind='barh', x='column', y='percent_missing'); \n",
        "    plt.title('Percent of missing values in colummns');\n",
        "\n",
        "plot_missing_values(X_train)"
      ],
      "metadata": {
        "id": "R4jrggirUBS9",
        "colab": {
          "base_uri": "https://localhost:8080/",
          "height": 390
        },
        "outputId": "c81bfa8b-9e87-4857-be02-e18e2d56f86d"
      },
      "execution_count": 10,
      "outputs": [
        {
          "output_type": "display_data",
          "data": {
            "text/plain": [
              "<Figure size 720x432 with 1 Axes>"
            ],
            "image/png": "[encoded data removed]"
          },
          "metadata": {
            "needs_background": "light"
          }
        }
      ]
    },
    {
      "cell_type": "markdown",
      "source": [
        "Начнём создавать пайплайн для обработки "
      ],
      "metadata": {
        "id": "Q1AZ51VzYqhN"
      }
    },
    {
      "cell_type": "code",
      "source": [
        "cat_cols = [\n",
        "    'city', \n",
        "            'gender', 'relevent_experience',\n",
        "            'enrolled_university', 'education_level', 'major_discipline',\n",
        "            'experience', 'company_size', 'company_type', 'last_new_job',]\n",
        "cont_columns = ['city_development_index', 'training_hours']"
      ],
      "metadata": {
        "id": "NfdHg5BcwE2K"
      },
      "execution_count": 11,
      "outputs": []
    },
    {
      "cell_type": "code",
      "source": [
        "from sklearn.base import BaseEstimator, TransformerMixin\n",
        "from sklearn.pipeline import Pipeline, FeatureUnion\n",
        "\n",
        "#соберем наш простой pipeline, но нам понадобится написать класс для выбора нужного поля\n",
        "class FeatureSelector(BaseEstimator, TransformerMixin):\n",
        "    def __init__(self, column):\n",
        "        self.column = column\n",
        "\n",
        "    def fit(self, X, y=None):\n",
        "        return self\n",
        "\n",
        "    def transform(self, X, y=None):\n",
        "        return X[self.column]\n",
        "    \n",
        "class NumberSelector(BaseEstimator, TransformerMixin):\n",
        "    \"\"\"\n",
        "    Transformer to select a single column from the data frame to perform additional transformations on\n",
        "    Use on numeric columns in the data\n",
        "    \"\"\"\n",
        "    def __init__(self, key):\n",
        "        self.key = key\n",
        "\n",
        "    def fit(self, X, y=None):\n",
        "        return self\n",
        "\n",
        "    def transform(self, X):        \n",
        "        return X[[self.key]]\n",
        "    \n",
        "class OHEEncoder(BaseEstimator, TransformerMixin):\n",
        "    def __init__(self, key):\n",
        "        self.key = key\n",
        "        self.columns = []\n",
        "\n",
        "    def fit(self, X, y=None):\n",
        "        self.columns = [col for col in pd.get_dummies(X, prefix=self.key).columns]\n",
        "        return self\n",
        "\n",
        "    def transform(self, X):\n",
        "        X = pd.get_dummies(X, prefix=self.key)\n",
        "        test_columns = [col for col in X.columns]\n",
        "        for col_ in self.columns:\n",
        "            if col_ not in test_columns:\n",
        "                X[col_] = 0\n",
        "        return X[self.columns]\n",
        "\n",
        "class TextImputer(BaseEstimator, TransformerMixin):\n",
        "    def __init__(self, key, value):\n",
        "        self.key = key\n",
        "        self.value = value\n",
        "    def fit(self, X, y=None):\n",
        "        return self\n",
        "    def transform(self, X):\n",
        "        X[self.key] = X[self.key].fillna(self.value)\n",
        "        return X\n",
        "\n",
        "class NaFiller(BaseEstimator, TransformerMixin):\n",
        "    def __init__(self, key, mthd):\n",
        "        self.key = key\n",
        "        self.mthd = mthd        \n",
        "\n",
        "    def fit(self, X, y=None):\n",
        "        self.modes = X.mode()\n",
        "        # self.medians = X.median()\n",
        "        return self\n",
        "\n",
        "    def transform(self, X):\n",
        "        if self.mthd == 'Other':\n",
        "          X[self.key].fillna('Other', inplace=True)\n",
        "        # elif self.mthd == 'Median':\n",
        "        #   X[self.key].fillna(self.medians[self.key], inplace=True)\n",
        "        elif self.mthd == 'Mode':\n",
        "          X[self.key].fillna(self.modes[self.key][0], inplace=True)  \n",
        "        return X"
      ],
      "metadata": {
        "id": "JZXszfbb7Ubt"
      },
      "execution_count": 12,
      "outputs": []
    },
    {
      "cell_type": "code",
      "source": [
        "from sklearn.linear_model import LogisticRegression"
      ],
      "metadata": {
        "id": "LQUQuaIe_Lym"
      },
      "execution_count": null,
      "outputs": []
    },
    {
      "cell_type": "code",
      "source": [
        "X = df.iloc[:,:-1]\n",
        "y = df['target']\n",
        "\n",
        "X_train, X_val, y_train, y_val = train_test_split(X, y, test_size=0.33, random_state=7575)\n",
        "\n",
        "cat_cols = [\n",
        "            'city', \n",
        "            'gender', 'relevent_experience',\n",
        "            'enrolled_university', 'education_level', 'major_discipline',\n",
        "            'experience', 'company_size', 'company_type', 'last_new_job',]\n",
        "\n",
        "cont_columns = ['city_development_index', 'training_hours']\n",
        "\n",
        "# 1\n",
        "city = Pipeline([\n",
        "                ('selector', FeatureSelector(column='city')),\n",
        "                ('ohe', OHEEncoder(key='city'))\n",
        "                 ])\n",
        "# 2\n",
        "city_development_index = Pipeline([\n",
        "                ('selector', NumberSelector(key='city_development_index')),\n",
        "                ('scaler', StandardScaler())\n",
        "                ])\n",
        "#3\n",
        "gender =  Pipeline([                 \n",
        "                   ('fill', NaFiller(key='gender', mthd='Other')),\n",
        "                   ('selector', FeatureSelector(column='gender')),\n",
        "                   ('ohe', OHEEncoder(key='gender'))\n",
        "                   ])\n",
        "# 4\n",
        "enrolled_university =  Pipeline([                 \n",
        "                ('fill', NaFiller(key='enrolled_university', mthd='Mode')),\n",
        "                ('selector', FeatureSelector(column='enrolled_university')),\n",
        "                ('ohe', OHEEncoder(key='enrolled_university'))\n",
        "                ])\n",
        "# 5\n",
        "education_level = Pipeline([                 \n",
        "                ('fill', NaFiller(key='education_level', mthd='Mode')),\n",
        "                ('selector', FeatureSelector(column='education_level')),\n",
        "                ('ohe', OHEEncoder(key='education_level'))\n",
        "                ])\n",
        "# 6\n",
        "major_discipline = Pipeline([                 \n",
        "                ('fill', NaFiller(key='major_discipline', mthd='Mode')),\n",
        "                ('selector', FeatureSelector(column='major_discipline')),\n",
        "                ('ohe', OHEEncoder(key='major_discipline'))\n",
        "                ])\n",
        "# 7\n",
        "experience = Pipeline([                 \n",
        "                ('fill', NaFiller(key='experience', mthd='Other')),\n",
        "                ('selector', FeatureSelector(column='experience')),\n",
        "                ('ohe', OHEEncoder(key='experience'))\n",
        "            ])\n",
        "# 8\n",
        "company_size =  Pipeline([                 \n",
        "                ('fill', NaFiller(key='company_size', mthd='Other')),\n",
        "                ('selector', FeatureSelector(column='company_size')),\n",
        "                ('ohe', OHEEncoder(key='company_size'))\n",
        "            ])\n",
        "# 9\n",
        "company_type =  Pipeline([                 \n",
        "                ('fill', NaFiller(key='company_type', mthd='Other')),\n",
        "                ('selector', FeatureSelector(column='company_type')),\n",
        "                ('ohe', OHEEncoder(key='company_type'))\n",
        "            ])\n",
        "# 10\n",
        "last_new_job = Pipeline([                 \n",
        "                ('fill', NaFiller(key='last_new_job', mthd='Mode')),\n",
        "                ('selector', FeatureSelector(column='last_new_job')),\n",
        "                ('ohe', OHEEncoder(key='last_new_job'))\n",
        "            ])\n",
        "\n",
        "# 11\n",
        "\n",
        "training_hours = Pipeline([\n",
        "                ('selector', NumberSelector(key='training_hours')),\n",
        "                ('scaler', StandardScaler())\n",
        "                ])\n",
        "\n",
        "feats = FeatureUnion([\n",
        "                      ('city', city),\n",
        "                      ('city_development_index', city_development_index),\n",
        "                      ('gender', gender),\n",
        "                      ('enrolled_university', enrolled_university),\n",
        "                      ('education_level', education_level),\n",
        "                      ('major_discipline', major_discipline),\n",
        "                      ('experience', experience),\n",
        "                      ('company_size', company_size),\n",
        "                      ('company_type', company_type),\n",
        "                      ('last_new_job', last_new_job),\n",
        "                      ('training_hours', training_hours),\n",
        "                      ])"
      ],
      "metadata": {
        "id": "l9VAB-NMymhe"
      },
      "execution_count": 13,
      "outputs": []
    },
    {
      "cell_type": "code",
      "source": [
        "feature_processing = Pipeline([('feats', feats)])\n",
        "\n",
        "feature_processing.fit(X_train)\n",
        "\n",
        "feature_processing.transform(X_train)\n",
        "feature_processing.transform(X_val)"
      ],
      "metadata": {
        "colab": {
          "base_uri": "https://localhost:8080/"
        },
        "id": "a1sWuN8hEYcM",
        "outputId": "83fa8dc4-03be-45b8-e695-5bcc210abcd7"
      },
      "execution_count": 14,
      "outputs": [
        {
          "output_type": "execute_result",
          "data": {
            "text/plain": [
              "array([[ 0.        ,  0.        ,  0.        , ...,  0.        ,\n",
              "         0.        , -0.98900213],\n",
              "       [ 0.        ,  0.        ,  0.        , ...,  0.        ,\n",
              "         1.        , -0.17426574],\n",
              "       [ 0.        ,  0.        ,  0.        , ...,  0.        ,\n",
              "         0.        , -0.1410112 ],\n",
              "       ...,\n",
              "       [ 0.        ,  1.        ,  0.        , ...,  1.        ,\n",
              "         0.        ,  2.33645253],\n",
              "       [ 0.        ,  0.        ,  0.        , ...,  0.        ,\n",
              "         0.        , -0.88923849],\n",
              "       [ 0.        ,  0.        ,  0.        , ...,  0.        ,\n",
              "         0.        , -0.49018394]])"
            ]
          },
          "metadata": {},
          "execution_count": 14
        }
      ]
    },
    {
      "cell_type": "code",
      "source": [
        "# classifier = Pipeline([\n",
        "#     ('features', feats),\n",
        "#     ('classifier', CatBoostClassifier(random_state=7575, verbose=False)),\n",
        "# ])\n",
        "# classifier.fit(X_train, y_train)\n",
        "# # \n",
        "# # feature_processing.fit_transform(X_train)\n",
        "# y_score = classifier.predict_proba(X_val)[:, 1]\n",
        "# print(\"model score: %.3f\" % classifier.score(X_val, y_val))"
      ],
      "metadata": {
        "colab": {
          "base_uri": "https://localhost:8080/"
        },
        "id": "-oR8NAznCNW4",
        "outputId": "dc7d0cab-7b67-4cf9-a600-4122d5723f10"
      },
      "execution_count": null,
      "outputs": [
        {
          "output_type": "stream",
          "name": "stdout",
          "text": [
            "model score: 0.791\n"
          ]
        }
      ]
    },
    {
      "cell_type": "code",
      "source": [
        "classifier = Pipeline([\n",
        "    ('features', feats),\n",
        "    ('classifier', xgb.XGBClassifier(random_state=7575, verbose=False)),\n",
        "])\n",
        "# classifier.fit(X_train, y_train)\n",
        "\n",
        "# запустим кросс-валидацию\n",
        "cv_scores = cross_val_score(classifier, X_train, y_train, cv=5, scoring='roc_auc')\n",
        "cv_score = np.mean(cv_scores)\n",
        "cv_score_std = np.std(cv_scores)\n",
        "print(f'CV score is {cv_score}+-{cv_score_std}')\n",
        "\n",
        "# обучим пайплайн на всем тренировочном датасете\n",
        "classifier.fit(X_train, y_train)\n",
        "# y_score = classifier.predict_proba(X_val)[:, 1]"
      ],
      "metadata": {
        "id": "EyqIOER5IDTJ",
        "colab": {
          "base_uri": "https://localhost:8080/"
        },
        "outputId": "7d8d9d8b-a439-4ec5-fc54-45aca7b7c552"
      },
      "execution_count": 15,
      "outputs": [
        {
          "output_type": "stream",
          "name": "stdout",
          "text": [
            "CV score is 0.7958480699476426+-0.007722732638905003\n"
          ]
        },
        {
          "output_type": "execute_result",
          "data": {
            "text/plain": [
              "Pipeline(steps=[('features',\n",
              "                 FeatureUnion(transformer_list=[('city',\n",
              "                                                 Pipeline(steps=[('selector',\n",
              "                                                                  FeatureSelector(column='city')),\n",
              "                                                                 ('ohe',\n",
              "                                                                  OHEEncoder(key='city'))])),\n",
              "                                                ('city_development_index',\n",
              "                                                 Pipeline(steps=[('selector',\n",
              "                                                                  NumberSelector(key='city_development_index')),\n",
              "                                                                 ('scaler',\n",
              "                                                                  StandardScaler())])),\n",
              "                                                ('gender',\n",
              "                                                 Pipeline(steps=[('fill',\n",
              "                                                                  NaFiller(key='gender',\n",
              "                                                                           mt...\n",
              "                                                ('last_new_job',\n",
              "                                                 Pipeline(steps=[('fill',\n",
              "                                                                  NaFiller(key='last_new_job',\n",
              "                                                                           mthd='Mode')),\n",
              "                                                                 ('selector',\n",
              "                                                                  FeatureSelector(column='last_new_job')),\n",
              "                                                                 ('ohe',\n",
              "                                                                  OHEEncoder(key='last_new_job'))])),\n",
              "                                                ('training_hours',\n",
              "                                                 Pipeline(steps=[('selector',\n",
              "                                                                  NumberSelector(key='training_hours')),\n",
              "                                                                 ('scaler',\n",
              "                                                                  StandardScaler())]))])),\n",
              "                ('classifier',\n",
              "                 XGBClassifier(random_state=7575, verbose=False))])"
            ]
          },
          "metadata": {},
          "execution_count": 15
        }
      ]
    },
    {
      "cell_type": "code",
      "source": [
        "classifier.steps"
      ],
      "metadata": {
        "colab": {
          "base_uri": "https://localhost:8080/"
        },
        "id": "OaRPPNkR3EdQ",
        "outputId": "1b654829-8e8b-4f64-8f20-16361b853f1f"
      },
      "execution_count": 16,
      "outputs": [
        {
          "output_type": "execute_result",
          "data": {
            "text/plain": [
              "[('features', FeatureUnion(transformer_list=[('city',\n",
              "                                  Pipeline(steps=[('selector',\n",
              "                                                   FeatureSelector(column='city')),\n",
              "                                                  ('ohe',\n",
              "                                                   OHEEncoder(key='city'))])),\n",
              "                                 ('city_development_index',\n",
              "                                  Pipeline(steps=[('selector',\n",
              "                                                   NumberSelector(key='city_development_index')),\n",
              "                                                  ('scaler', StandardScaler())])),\n",
              "                                 ('gender',\n",
              "                                  Pipeline(steps=[('fill',\n",
              "                                                   NaFiller(key='gender',\n",
              "                                                            mthd='Other')),\n",
              "                                                  ('selector',\n",
              "                                                   Fea...\n",
              "                                                   FeatureSelector(column='company_type')),\n",
              "                                                  ('ohe',\n",
              "                                                   OHEEncoder(key='company_type'))])),\n",
              "                                 ('last_new_job',\n",
              "                                  Pipeline(steps=[('fill',\n",
              "                                                   NaFiller(key='last_new_job',\n",
              "                                                            mthd='Mode')),\n",
              "                                                  ('selector',\n",
              "                                                   FeatureSelector(column='last_new_job')),\n",
              "                                                  ('ohe',\n",
              "                                                   OHEEncoder(key='last_new_job'))])),\n",
              "                                 ('training_hours',\n",
              "                                  Pipeline(steps=[('selector',\n",
              "                                                   NumberSelector(key='training_hours')),\n",
              "                                                  ('scaler',\n",
              "                                                   StandardScaler())]))])),\n",
              " ('classifier', XGBClassifier(random_state=7575, verbose=False))]"
            ]
          },
          "metadata": {},
          "execution_count": 16
        }
      ]
    },
    {
      "cell_type": "code",
      "source": [
        "import dill\n",
        "\n",
        "with open(\"./models/xgb_simple.dill\", \"wb\") as f:\n",
        "    dill.dump(classifier, f)"
      ],
      "metadata": {
        "id": "AhIUN7tz3JcJ"
      },
      "execution_count": 18,
      "outputs": []
    }
  ]
}